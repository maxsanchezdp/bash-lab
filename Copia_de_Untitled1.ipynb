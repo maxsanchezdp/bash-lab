{
  "nbformat": 4,
  "nbformat_minor": 0,
  "metadata": {
    "kernelspec": {
      "name": "python3",
      "display_name": "Python 3"
    },
    "language_info": {
      "codemirror_mode": {
        "name": "ipython",
        "version": 3
      },
      "file_extension": ".py",
      "mimetype": "text/x-python",
      "name": "python",
      "nbconvert_exporter": "python",
      "pygments_lexer": "ipython3",
      "version": "3.6.9"
    },
    "colab": {
      "name": "Copia de Untitled1.ipynb",
      "version": "0.3.2",
      "provenance": [],
      "machine_shape": "hm",
      "include_colab_link": true
    },
    "accelerator": "GPU"
  },
  "cells": [
    {
      "cell_type": "markdown",
      "metadata": {
        "id": "view-in-github",
        "colab_type": "text"
      },
      "source": [
        "<a href=\"https://colab.research.google.com/github/maxsanchezdp/bash-lab/blob/master/Copia_de_Untitled1.ipynb\" target=\"_parent\"><img src=\"https://colab.research.google.com/assets/colab-badge.svg\" alt=\"Open In Colab\"/></a>"
      ]
    },
    {
      "cell_type": "code",
      "metadata": {
        "id": "vRpZoatv3LDq",
        "colab_type": "code",
        "colab": {
          "base_uri": "https://localhost:8080/",
          "height": 34
        },
        "outputId": "4b79e733-36d2-4ad4-b7f4-1d652b17077d"
      },
      "source": [
        "import warnings\n",
        "warnings.filterwarnings(\"ignore\", category = FutureWarning)\n",
        "\n",
        "import os\n",
        "import keras\n",
        "import h5py\n",
        "import librosa\n",
        "import itertools\n",
        "import numpy as np\n",
        "import matplotlib.pyplot as plt\n",
        "from collections import OrderedDict\n",
        "\n",
        "\n",
        "from keras.utils import to_categorical\n",
        "from sklearn.model_selection import train_test_split\n",
        "from sklearn.metrics import confusion_matrix\n",
        "\n",
        "from keras.models import Sequential\n",
        "from keras.layers import Dense\n",
        "from keras.layers import Activation\n",
        "from keras.layers import Flatten\n",
        "from keras.layers import Input\n",
        "from keras.layers import Dropout\n",
        "from keras.models import Model\n",
        "from keras.applications.vgg16 import VGG16\n"
      ],
      "execution_count": 1,
      "outputs": [
        {
          "output_type": "stream",
          "text": [
            "Using TensorFlow backend.\n"
          ],
          "name": "stderr"
        }
      ]
    },
    {
      "cell_type": "code",
      "metadata": {
        "id": "rJQGP6c73P0n",
        "colab_type": "code",
        "outputId": "e77f09dc-d70f-4846-bd05-7f2ce15eb7a0",
        "colab": {
          "base_uri": "https://localhost:8080/",
          "height": 122
        }
      },
      "source": [
        "#Using google drive (working from colab)\n",
        "from google.colab import drive\n",
        "drive.mount('/content/drive')"
      ],
      "execution_count": 3,
      "outputs": [
        {
          "output_type": "stream",
          "text": [
            "Go to this URL in a browser: https://accounts.google.com/o/oauth2/auth?client_id=947318989803-6bn6qk8qdgf4n4g3pfee6491hc0brc4i.apps.googleusercontent.com&redirect_uri=urn%3Aietf%3Awg%3Aoauth%3A2.0%3Aoob&scope=email%20https%3A%2F%2Fwww.googleapis.com%2Fauth%2Fdocs.test%20https%3A%2F%2Fwww.googleapis.com%2Fauth%2Fdrive%20https%3A%2F%2Fwww.googleapis.com%2Fauth%2Fdrive.photos.readonly%20https%3A%2F%2Fwww.googleapis.com%2Fauth%2Fpeopleapi.readonly&response_type=code\n",
            "\n",
            "Enter your authorization code:\n",
            "··········\n",
            "Mounted at /content/drive\n"
          ],
          "name": "stdout"
        }
      ]
    },
    {
      "cell_type": "code",
      "metadata": {
        "id": "VX57CgaD3LDy",
        "colab_type": "code",
        "colab": {}
      },
      "source": [
        "\"\"\"\n",
        "@description: Method to split a song into multiple songs using overlapping windows\n",
        "\"\"\"\n",
        "def splitsongs(X, y, window = 0.1, overlap = 0.5):\n",
        "'''\n",
        "Function to split songs into multiple audio clips.\n",
        "X: song as np.array loaded using librosa\n",
        "y: array of corresponding son genres\n",
        "window: proportion of the length of the song to form new clips\n",
        "overlap: proportion of \n",
        "'''  \n",
        "    # Empty lists to hold our results\n",
        "    temp_X = []\n",
        "    temp_y = []\n",
        "\n",
        "    # Get the input song array size\n",
        "    xshape = X.shape[0]\n",
        "    chunk = int(xshape*window)\n",
        "    offset = int(chunk*(1.-overlap))\n",
        "    \n",
        "    # Split the song and create new ones on windows\n",
        "    spsong = [X[i:i+chunk] for i in range(0, xshape - chunk + offset, offset)]\n",
        "    for s in spsong:\n",
        "        temp_X.append(s)\n",
        "        temp_y.append(y)\n",
        "\n",
        "    return np.array(temp_X), np.array(temp_y)"
      ],
      "execution_count": 0,
      "outputs": []
    },
    {
      "cell_type": "markdown",
      "metadata": {
        "id": "qvro40DqylYz",
        "colab_type": "text"
      },
      "source": [
        ""
      ]
    },
    {
      "cell_type": "code",
      "metadata": {
        "id": "Mu5UuNni3LD5",
        "colab_type": "code",
        "colab": {}
      },
      "source": [
        "\n",
        "\"\"\"\n",
        "@description: Method to convert a list of songs to a np array of melspectrograms\n",
        "\"\"\"\n",
        "def to_melspectrogram(songs, n_fft = 1024, hop_length = 512):\n",
        "    # Transformation function\n",
        "    melspec = lambda x: librosa.feature.melspectrogram(x, n_fft = n_fft,\n",
        "        hop_length = hop_length)[:,:,np.newaxis]\n",
        "\n",
        "    # map transformation of input songs to melspectrogram using log-scale\n",
        "    tsongs = map(melspec, songs)\n",
        "    return np.array(list(tsongs))"
      ],
      "execution_count": 0,
      "outputs": []
    },
    {
      "cell_type": "code",
      "metadata": {
        "id": "nEG64BAx3Taz",
        "colab_type": "code",
        "colab": {}
      },
      "source": [
        ""
      ],
      "execution_count": 0,
      "outputs": []
    },
    {
      "cell_type": "code",
      "metadata": {
        "id": "hPCXTbQ53LD9",
        "colab_type": "code",
        "colab": {}
      },
      "source": [
        "\n",
        "def read_data(src_dir, genres, song_samples, spec_format, debug = True):    \n",
        "    # Empty array of dicts with the processed features from all files\n",
        "    arr_specs = []\n",
        "    arr_genres = []\n",
        "\n",
        "    # Read files from the folders\n",
        "    for x,_ in genres.items():\n",
        "        folder = src_dir + x\n",
        "        \n",
        "        for root, subdirs, files in os.walk(folder):\n",
        "            for file in files:\n",
        "                # Read the audio file\n",
        "                file_name = folder + \"/\" + file\n",
        "                signal, sr = librosa.load(file_name)\n",
        "                signal = signal[:song_samples]\n",
        "                \n",
        "                # Debug process\n",
        "                if debug:\n",
        "                    print(\"Reading file: {}\".format(file_name))\n",
        "                \n",
        "                # Convert to dataset of spectograms/melspectograms\n",
        "                signals, y = splitsongs(signal, genres[x])\n",
        "                \n",
        "                # Convert to \"spec\" representation\n",
        "                specs = spec_format(signals)\n",
        "                \n",
        "                # Save files\n",
        "                arr_genres.extend(y)\n",
        "                arr_specs.extend(specs)\n",
        "                \n",
        "                \n",
        "    return np.array(arr_specs), np.array(arr_genres)"
      ],
      "execution_count": 0,
      "outputs": []
    },
    {
      "cell_type": "code",
      "metadata": {
        "id": "whe_NpQz3LED",
        "colab_type": "code",
        "colab": {}
      },
      "source": [
        "# Parameters\n",
        "gtzan_dir = '/content/drive/My Drive/final_project_dataset/genres/'\n",
        "song_samples = 660000\n",
        "genres = {'blues': 0, 'classical': 1, 'country': 2, 'disco': 3, 'hiphop': 4, \n",
        "          'jazz': 5, 'metal': 6, 'pop': 7, 'reggae': 8, 'rock': 9}"
      ],
      "execution_count": 0,
      "outputs": []
    },
    {
      "cell_type": "code",
      "metadata": {
        "id": "dStg68ip3LEJ",
        "colab_type": "code",
        "colab": {}
      },
      "source": [
        "# Read the data\n",
        "X, y = read_data(gtzan_dir, genres, song_samples, to_melspectrogram, debug=True)\n",
        "np.save('/content/drive/My Drive/x_gtzan_npy.npy', X)\n",
        "np.save('/content/drive/My Drive/y_gtzan_npy.npy', y)"
      ],
      "execution_count": 0,
      "outputs": []
    },
    {
      "cell_type": "code",
      "metadata": {
        "id": "0m7B2b0z3LEV",
        "colab_type": "code",
        "colab": {}
      },
      "source": [
        "\n",
        "X = np.load('/content/drive/My Drive/x_gtzan_npy.npy')\n",
        "y = np.load('/content/drive/My Drive/y_gtzan_npy.npy')"
      ],
      "execution_count": 0,
      "outputs": []
    },
    {
      "cell_type": "code",
      "metadata": {
        "id": "WH88bhLK3LEb",
        "colab_type": "code",
        "colab": {}
      },
      "source": [
        "# One hot encoding of the labels\n",
        "y = to_categorical(y)"
      ],
      "execution_count": 0,
      "outputs": []
    },
    {
      "cell_type": "code",
      "metadata": {
        "id": "kV1Y3iOl3LEi",
        "colab_type": "code",
        "outputId": "fc1c99de-7148-43ab-db1b-ec812286e876",
        "colab": {
          "base_uri": "https://localhost:8080/",
          "height": 34
        }
      },
      "source": [
        "X_stack = np.squeeze(np.stack((X,) * 3, -1))\n",
        "X_stack.shape"
      ],
      "execution_count": 8,
      "outputs": [
        {
          "output_type": "execute_result",
          "data": {
            "text/plain": [
              "(19000, 128, 129, 3)"
            ]
          },
          "metadata": {
            "tags": []
          },
          "execution_count": 8
        }
      ]
    },
    {
      "cell_type": "code",
      "metadata": {
        "id": "M9mYink_7oSe",
        "colab_type": "code",
        "colab": {}
      },
      "source": [
        "\n",
        "X_train, X_test, y_train, y_test = train_test_split(X_stack, y, test_size=0.3, random_state=42, stratify = y)"
      ],
      "execution_count": 0,
      "outputs": []
    },
    {
      "cell_type": "code",
      "metadata": {
        "id": "23lHpM1l71t3",
        "colab_type": "code",
        "outputId": "9bfcc7c7-6b3d-45c0-d73c-3ee3c43a2ee2",
        "colab": {
          "base_uri": "https://localhost:8080/",
          "height": 34
        }
      },
      "source": [
        "print(X_train.shape, X_test.shape, y_train.shape, y_test.shape)"
      ],
      "execution_count": 10,
      "outputs": [
        {
          "output_type": "stream",
          "text": [
            "(13300, 128, 129, 3) (5700, 128, 129, 3) (13300, 10) (5700, 10)\n"
          ],
          "name": "stdout"
        }
      ]
    },
    {
      "cell_type": "code",
      "metadata": {
        "id": "U2gzlS-VAnH0",
        "colab_type": "code",
        "outputId": "ee0eac46-02ba-4653-ce06-da37db874b7f",
        "colab": {
          "base_uri": "https://localhost:8080/",
          "height": 269
        }
      },
      "source": [
        "# Histogram for train and test \n",
        "values, count = np.unique(np.argmax(y_train, axis=1), return_counts=True)\n",
        "plt.bar(values, count)\n",
        "\n",
        "values, count = np.unique(np.argmax(y_test, axis=1), return_counts=True)\n",
        "plt.bar(values, count)\n",
        "plt.show()"
      ],
      "execution_count": 11,
      "outputs": [
        {
          "output_type": "display_data",
          "data": {
            "image/png": "[encoded data removed]",
            "text/plain": [
              "<Figure size 432x288 with 1 Axes>"
            ]
          },
          "metadata": {
            "tags": []
          }
        }
      ]
    },
    {
      "cell_type": "code",
      "metadata": {
        "id": "thmtllbgApRo",
        "colab_type": "code",
        "outputId": "21a1b033-de52-4fa8-e886-1df1fdd6ebe8",
        "colab": {
          "base_uri": "https://localhost:8080/",
          "height": 816
        }
      },
      "source": [
        "input_shape = X_train[0].shape\n",
        "num_genres = 10\n",
        "\n",
        "def cnn_vgg16(input_shape, num_genres, freezed_layers):\n",
        "    input_tensor = Input(shape=input_shape)\n",
        "    vgg16 = VGG16(include_top=False, weights='imagenet',\n",
        "                  input_tensor=input_tensor)\n",
        "\n",
        "    top = Sequential()\n",
        "    top.add(Flatten(input_shape=vgg16.output_shape[1:]))\n",
        "    top.add(Dense(128, activation='relu'))\n",
        "    top.add(Dropout(0.5))\n",
        "    top.add(Dense(num_genres, activation='softmax'))\n",
        "\n",
        "    model = Model(inputs=vgg16.input, outputs=top(vgg16.output))\n",
        "    for layer in model.layers[:freezed_layers]:\n",
        "        layer.trainable = False\n",
        "\n",
        "    return model\n",
        "\n",
        "model = cnn_vgg16(input_shape, num_genres, 5)\n",
        "model.summary()"
      ],
      "execution_count": 14,
      "outputs": [
        {
          "output_type": "stream",
          "text": [
            "_________________________________________________________________\n",
            "Layer (type)                 Output Shape              Param #   \n",
            "=================================================================\n",
            "input_2 (InputLayer)         (None, 128, 129, 3)       0         \n",
            "_________________________________________________________________\n",
            "block1_conv1 (Conv2D)        (None, 128, 129, 64)      1792      \n",
            "_________________________________________________________________\n",
            "block1_conv2 (Conv2D)        (None, 128, 129, 64)      36928     \n",
            "_________________________________________________________________\n",
            "block1_pool (MaxPooling2D)   (None, 64, 64, 64)        0         \n",
            "_________________________________________________________________\n",
            "block2_conv1 (Conv2D)        (None, 64, 64, 128)       73856     \n",
            "_________________________________________________________________\n",
            "block2_conv2 (Conv2D)        (None, 64, 64, 128)       147584    \n",
            "_________________________________________________________________\n",
            "block2_pool (MaxPooling2D)   (None, 32, 32, 128)       0         \n",
            "_________________________________________________________________\n",
            "block3_conv1 (Conv2D)        (None, 32, 32, 256)       295168    \n",
            "_________________________________________________________________\n",
            "block3_conv2 (Conv2D)        (None, 32, 32, 256)       590080    \n",
            "_________________________________________________________________\n",
            "block3_conv3 (Conv2D)        (None, 32, 32, 256)       590080    \n",
            "_________________________________________________________________\n",
            "block3_pool (MaxPooling2D)   (None, 16, 16, 256)       0         \n",
            "_________________________________________________________________\n",
            "block4_conv1 (Conv2D)        (None, 16, 16, 512)       1180160   \n",
            "_________________________________________________________________\n",
            "block4_conv2 (Conv2D)        (None, 16, 16, 512)       2359808   \n",
            "_________________________________________________________________\n",
            "block4_conv3 (Conv2D)        (None, 16, 16, 512)       2359808   \n",
            "_________________________________________________________________\n",
            "block4_pool (MaxPooling2D)   (None, 8, 8, 512)         0         \n",
            "_________________________________________________________________\n",
            "block5_conv1 (Conv2D)        (None, 8, 8, 512)         2359808   \n",
            "_________________________________________________________________\n",
            "block5_conv2 (Conv2D)        (None, 8, 8, 512)         2359808   \n",
            "_________________________________________________________________\n",
            "block5_conv3 (Conv2D)        (None, 8, 8, 512)         2359808   \n",
            "_________________________________________________________________\n",
            "block5_pool (MaxPooling2D)   (None, 4, 4, 512)         0         \n",
            "_________________________________________________________________\n",
            "sequential_2 (Sequential)    (None, 10)                1049994   \n",
            "=================================================================\n",
            "Total params: 15,764,682\n",
            "Trainable params: 15,652,106\n",
            "Non-trainable params: 112,576\n",
            "_________________________________________________________________\n"
          ],
          "name": "stdout"
        }
      ]
    },
    {
      "cell_type": "code",
      "metadata": {
        "id": "KYM-3i4tAuLG",
        "colab_type": "code",
        "outputId": "f684eb5e-881d-4562-973c-821c9a7f74e1",
        "colab": {
          "base_uri": "https://localhost:8080/",
          "height": 1000
        }
      },
      "source": [
        "model.compile(loss=keras.losses.categorical_crossentropy,\n",
        "              optimizer=keras.optimizers.Adam(),\n",
        "              metrics=['accuracy'])\n",
        "\n",
        "hist = model.fit(X_train, y_train,\n",
        "          batch_size=128,\n",
        "          epochs=100,\n",
        "          verbose=1,\n",
        "          validation_data=(X_test, y_test))"
      ],
      "execution_count": 15,
      "outputs": [
        {
          "output_type": "stream",
          "text": [
            "Train on 13300 samples, validate on 5700 samples\n",
            "Epoch 1/100\n",
            "13300/13300 [==============================] - 54s 4ms/step - loss: 2.2238 - acc: 0.2540 - val_loss: 1.7507 - val_acc: 0.3637\n",
            "Epoch 2/100\n",
            "13300/13300 [==============================] - 52s 4ms/step - loss: 1.6962 - acc: 0.3885 - val_loss: 1.4415 - val_acc: 0.4877\n",
            "Epoch 3/100\n",
            "13300/13300 [==============================] - 53s 4ms/step - loss: 1.3929 - acc: 0.5044 - val_loss: 1.1803 - val_acc: 0.5868\n",
            "Epoch 4/100\n",
            "13300/13300 [==============================] - 52s 4ms/step - loss: 1.3219 - acc: 0.5378 - val_loss: 1.1285 - val_acc: 0.5996\n",
            "Epoch 5/100\n",
            "13300/13300 [==============================] - 53s 4ms/step - loss: 1.1190 - acc: 0.6098 - val_loss: 1.0464 - val_acc: 0.6379\n",
            "Epoch 6/100\n",
            "13300/13300 [==============================] - 52s 4ms/step - loss: 1.0167 - acc: 0.6489 - val_loss: 1.0101 - val_acc: 0.6540\n",
            "Epoch 7/100\n",
            "13300/13300 [==============================] - 52s 4ms/step - loss: 0.9562 - acc: 0.6672 - val_loss: 0.9466 - val_acc: 0.6619\n",
            "Epoch 8/100\n",
            "13300/13300 [==============================] - 52s 4ms/step - loss: 0.8461 - acc: 0.7039 - val_loss: 0.7975 - val_acc: 0.7270\n",
            "Epoch 9/100\n",
            "13300/13300 [==============================] - 53s 4ms/step - loss: 0.7325 - acc: 0.7486 - val_loss: 0.7679 - val_acc: 0.7291\n",
            "Epoch 10/100\n",
            "13300/13300 [==============================] - 53s 4ms/step - loss: 0.7400 - acc: 0.7500 - val_loss: 0.6606 - val_acc: 0.7789\n",
            "Epoch 11/100\n",
            "13300/13300 [==============================] - 52s 4ms/step - loss: 0.6257 - acc: 0.7884 - val_loss: 0.6351 - val_acc: 0.7819\n",
            "Epoch 12/100\n",
            "13300/13300 [==============================] - 52s 4ms/step - loss: 0.5714 - acc: 0.8120 - val_loss: 0.5977 - val_acc: 0.8012\n",
            "Epoch 13/100\n",
            "13300/13300 [==============================] - 53s 4ms/step - loss: 0.5085 - acc: 0.8326 - val_loss: 0.5697 - val_acc: 0.8139\n",
            "Epoch 14/100\n",
            "13300/13300 [==============================] - 52s 4ms/step - loss: 0.4708 - acc: 0.8428 - val_loss: 0.5831 - val_acc: 0.8147\n",
            "Epoch 15/100\n",
            "13300/13300 [==============================] - 52s 4ms/step - loss: 0.3870 - acc: 0.8709 - val_loss: 0.4415 - val_acc: 0.8560\n",
            "Epoch 16/100\n",
            "13300/13300 [==============================] - 53s 4ms/step - loss: 0.3348 - acc: 0.8905 - val_loss: 0.4558 - val_acc: 0.8605\n",
            "Epoch 17/100\n",
            "13300/13300 [==============================] - 52s 4ms/step - loss: 0.3802 - acc: 0.8847 - val_loss: 0.6086 - val_acc: 0.8251\n",
            "Epoch 18/100\n",
            "13300/13300 [==============================] - 53s 4ms/step - loss: 0.3719 - acc: 0.8779 - val_loss: 0.4790 - val_acc: 0.8584\n",
            "Epoch 19/100\n",
            "13300/13300 [==============================] - 52s 4ms/step - loss: 0.2916 - acc: 0.9032 - val_loss: 0.4838 - val_acc: 0.8623\n",
            "Epoch 20/100\n",
            "13300/13300 [==============================] - 52s 4ms/step - loss: 0.2424 - acc: 0.9197 - val_loss: 0.4617 - val_acc: 0.8628\n",
            "Epoch 21/100\n",
            "13300/13300 [==============================] - 53s 4ms/step - loss: 0.2315 - acc: 0.9250 - val_loss: 0.5541 - val_acc: 0.8514\n",
            "Epoch 22/100\n",
            "13300/13300 [==============================] - 52s 4ms/step - loss: 0.2511 - acc: 0.9183 - val_loss: 0.4290 - val_acc: 0.8763\n",
            "Epoch 23/100\n",
            "13300/13300 [==============================] - 52s 4ms/step - loss: 0.1891 - acc: 0.9423 - val_loss: 0.4883 - val_acc: 0.8691\n",
            "Epoch 24/100\n",
            "13300/13300 [==============================] - 52s 4ms/step - loss: 0.2334 - acc: 0.9263 - val_loss: 0.5530 - val_acc: 0.8370\n",
            "Epoch 25/100\n",
            "13300/13300 [==============================] - 52s 4ms/step - loss: 0.2683 - acc: 0.9146 - val_loss: 0.4645 - val_acc: 0.8633\n",
            "Epoch 26/100\n",
            "13300/13300 [==============================] - 52s 4ms/step - loss: 0.1759 - acc: 0.9443 - val_loss: 0.4704 - val_acc: 0.8814\n",
            "Epoch 27/100\n",
            "13300/13300 [==============================] - 52s 4ms/step - loss: 0.1631 - acc: 0.9465 - val_loss: 0.4658 - val_acc: 0.8732\n",
            "Epoch 28/100\n",
            "13300/13300 [==============================] - 52s 4ms/step - loss: 0.1816 - acc: 0.9436 - val_loss: 0.4501 - val_acc: 0.8789\n",
            "Epoch 29/100\n",
            "13300/13300 [==============================] - 52s 4ms/step - loss: 0.1828 - acc: 0.9411 - val_loss: 0.4968 - val_acc: 0.8826\n",
            "Epoch 30/100\n",
            "13300/13300 [==============================] - 53s 4ms/step - loss: 0.1414 - acc: 0.9567 - val_loss: 0.5101 - val_acc: 0.8774\n",
            "Epoch 31/100\n",
            "13300/13300 [==============================] - 52s 4ms/step - loss: 0.1584 - acc: 0.9492 - val_loss: 0.4668 - val_acc: 0.8751\n",
            "Epoch 32/100\n",
            "13300/13300 [==============================] - 52s 4ms/step - loss: 0.1297 - acc: 0.9604 - val_loss: 0.4616 - val_acc: 0.8779\n",
            "Epoch 33/100\n",
            "13300/13300 [==============================] - 52s 4ms/step - loss: 0.1459 - acc: 0.9572 - val_loss: 0.4635 - val_acc: 0.8916\n",
            "Epoch 34/100\n",
            "13300/13300 [==============================] - 52s 4ms/step - loss: 0.1364 - acc: 0.9596 - val_loss: 0.6162 - val_acc: 0.8472\n",
            "Epoch 35/100\n",
            "13300/13300 [==============================] - 52s 4ms/step - loss: 0.2022 - acc: 0.9400 - val_loss: 0.5383 - val_acc: 0.8658\n",
            "Epoch 36/100\n",
            "13300/13300 [==============================] - 52s 4ms/step - loss: 0.1644 - acc: 0.9488 - val_loss: 0.5588 - val_acc: 0.8600\n",
            "Epoch 37/100\n",
            "13300/13300 [==============================] - 52s 4ms/step - loss: 0.2148 - acc: 0.9343 - val_loss: 0.3858 - val_acc: 0.8956\n",
            "Epoch 38/100\n",
            "13300/13300 [==============================] - 52s 4ms/step - loss: 0.1107 - acc: 0.9644 - val_loss: 0.4112 - val_acc: 0.8914\n",
            "Epoch 39/100\n",
            "13300/13300 [==============================] - 52s 4ms/step - loss: 0.1042 - acc: 0.9662 - val_loss: 0.4211 - val_acc: 0.8988\n",
            "Epoch 40/100\n",
            "13300/13300 [==============================] - 53s 4ms/step - loss: 0.1496 - acc: 0.9539 - val_loss: 0.5400 - val_acc: 0.8551\n",
            "Epoch 41/100\n",
            "13300/13300 [==============================] - 52s 4ms/step - loss: 0.1210 - acc: 0.9608 - val_loss: 0.4381 - val_acc: 0.8974\n",
            "Epoch 42/100\n",
            "13300/13300 [==============================] - 52s 4ms/step - loss: 0.1272 - acc: 0.9609 - val_loss: 0.3991 - val_acc: 0.9000\n",
            "Epoch 43/100\n",
            "13300/13300 [==============================] - 52s 4ms/step - loss: 0.1727 - acc: 0.9508 - val_loss: 0.5139 - val_acc: 0.8695\n",
            "Epoch 44/100\n",
            "13300/13300 [==============================] - 52s 4ms/step - loss: 0.1881 - acc: 0.9422 - val_loss: 0.4909 - val_acc: 0.8796\n",
            "Epoch 45/100\n",
            "13300/13300 [==============================] - 52s 4ms/step - loss: 0.1279 - acc: 0.9638 - val_loss: 0.4768 - val_acc: 0.8775\n",
            "Epoch 46/100\n",
            "13300/13300 [==============================] - 52s 4ms/step - loss: 0.1533 - acc: 0.9548 - val_loss: 0.5853 - val_acc: 0.8407\n",
            "Epoch 47/100\n",
            "13300/13300 [==============================] - 52s 4ms/step - loss: 0.1970 - acc: 0.9411 - val_loss: 0.5453 - val_acc: 0.8486\n",
            "Epoch 48/100\n",
            "13300/13300 [==============================] - 52s 4ms/step - loss: 0.1841 - acc: 0.9454 - val_loss: 0.5542 - val_acc: 0.8570\n",
            "Epoch 49/100\n",
            "13300/13300 [==============================] - 52s 4ms/step - loss: 0.1196 - acc: 0.9644 - val_loss: 0.5353 - val_acc: 0.8870\n",
            "Epoch 50/100\n",
            "13300/13300 [==============================] - 52s 4ms/step - loss: 0.1145 - acc: 0.9670 - val_loss: 0.4388 - val_acc: 0.8995\n",
            "Epoch 51/100\n",
            "13300/13300 [==============================] - 52s 4ms/step - loss: 0.0847 - acc: 0.9740 - val_loss: 0.3859 - val_acc: 0.9163\n",
            "Epoch 52/100\n",
            "13300/13300 [==============================] - 52s 4ms/step - loss: 0.2227 - acc: 0.9364 - val_loss: 0.3971 - val_acc: 0.8909\n",
            "Epoch 53/100\n",
            "13300/13300 [==============================] - 52s 4ms/step - loss: 0.1292 - acc: 0.9614 - val_loss: 0.4930 - val_acc: 0.8816\n",
            "Epoch 54/100\n",
            "13300/13300 [==============================] - 52s 4ms/step - loss: 0.1483 - acc: 0.9564 - val_loss: 0.4746 - val_acc: 0.8853\n",
            "Epoch 55/100\n",
            "13300/13300 [==============================] - 52s 4ms/step - loss: 0.1388 - acc: 0.9606 - val_loss: 0.4665 - val_acc: 0.8965\n",
            "Epoch 56/100\n",
            "13300/13300 [==============================] - 52s 4ms/step - loss: 0.0957 - acc: 0.9722 - val_loss: 0.5187 - val_acc: 0.8821\n",
            "Epoch 57/100\n",
            "13300/13300 [==============================] - 52s 4ms/step - loss: 0.1175 - acc: 0.9644 - val_loss: 0.4415 - val_acc: 0.8840\n",
            "Epoch 58/100\n",
            "13300/13300 [==============================] - 52s 4ms/step - loss: 0.0884 - acc: 0.9738 - val_loss: 0.4675 - val_acc: 0.8996\n",
            "Epoch 59/100\n",
            "13300/13300 [==============================] - 52s 4ms/step - loss: 0.0895 - acc: 0.9732 - val_loss: 0.6732 - val_acc: 0.8491\n",
            "Epoch 60/100\n",
            "13300/13300 [==============================] - 52s 4ms/step - loss: 0.1791 - acc: 0.9505 - val_loss: 0.4604 - val_acc: 0.8911\n",
            "Epoch 61/100\n",
            "13300/13300 [==============================] - 52s 4ms/step - loss: 0.1473 - acc: 0.9594 - val_loss: 0.5988 - val_acc: 0.8649\n",
            "Epoch 62/100\n",
            "13300/13300 [==============================] - 52s 4ms/step - loss: 0.2144 - acc: 0.9394 - val_loss: 0.4249 - val_acc: 0.8975\n",
            "Epoch 63/100\n",
            "13300/13300 [==============================] - 52s 4ms/step - loss: 0.1194 - acc: 0.9648 - val_loss: 0.4846 - val_acc: 0.8942\n",
            "Epoch 64/100\n",
            "13300/13300 [==============================] - 52s 4ms/step - loss: 0.0722 - acc: 0.9789 - val_loss: 0.3861 - val_acc: 0.9186\n",
            "Epoch 65/100\n",
            "13300/13300 [==============================] - 52s 4ms/step - loss: 0.0708 - acc: 0.9789 - val_loss: 0.4230 - val_acc: 0.9081\n",
            "Epoch 66/100\n",
            "13300/13300 [==============================] - 52s 4ms/step - loss: 0.1135 - acc: 0.9690 - val_loss: 0.4954 - val_acc: 0.8767\n",
            "Epoch 67/100\n",
            "13300/13300 [==============================] - 52s 4ms/step - loss: 0.1825 - acc: 0.9443 - val_loss: 0.5663 - val_acc: 0.8640\n",
            "Epoch 68/100\n",
            "13300/13300 [==============================] - 52s 4ms/step - loss: 0.1981 - acc: 0.9438 - val_loss: 0.5072 - val_acc: 0.8842\n",
            "Epoch 69/100\n",
            "13300/13300 [==============================] - 52s 4ms/step - loss: 0.1493 - acc: 0.9551 - val_loss: 0.4465 - val_acc: 0.8991\n",
            "Epoch 70/100\n",
            "13300/13300 [==============================] - 52s 4ms/step - loss: 0.0670 - acc: 0.9804 - val_loss: 0.4456 - val_acc: 0.9005\n",
            "Epoch 71/100\n",
            "13300/13300 [==============================] - 53s 4ms/step - loss: 0.1133 - acc: 0.9711 - val_loss: 0.5202 - val_acc: 0.8861\n",
            "Epoch 72/100\n",
            "13300/13300 [==============================] - 52s 4ms/step - loss: 0.1073 - acc: 0.9708 - val_loss: 0.5704 - val_acc: 0.8867\n",
            "Epoch 73/100\n",
            "13300/13300 [==============================] - 52s 4ms/step - loss: 0.1521 - acc: 0.9595 - val_loss: 0.5197 - val_acc: 0.8830\n",
            "Epoch 74/100\n",
            "13300/13300 [==============================] - 52s 4ms/step - loss: 0.1151 - acc: 0.9684 - val_loss: 0.5509 - val_acc: 0.8781\n",
            "Epoch 75/100\n",
            "13300/13300 [==============================] - 52s 4ms/step - loss: 0.1412 - acc: 0.9632 - val_loss: 0.5481 - val_acc: 0.8904\n",
            "Epoch 76/100\n",
            "13300/13300 [==============================] - 52s 4ms/step - loss: 0.1182 - acc: 0.9697 - val_loss: 0.6002 - val_acc: 0.8793\n",
            "Epoch 77/100\n",
            "13300/13300 [==============================] - 52s 4ms/step - loss: 0.1120 - acc: 0.9681 - val_loss: 0.4961 - val_acc: 0.8947\n",
            "Epoch 78/100\n",
            "13300/13300 [==============================] - 52s 4ms/step - loss: 0.1037 - acc: 0.9722 - val_loss: 0.4680 - val_acc: 0.8993\n",
            "Epoch 79/100\n",
            "13300/13300 [==============================] - 52s 4ms/step - loss: 0.0879 - acc: 0.9724 - val_loss: 0.5677 - val_acc: 0.8863\n",
            "Epoch 80/100\n",
            "13300/13300 [==============================] - 52s 4ms/step - loss: 0.1807 - acc: 0.9526 - val_loss: 0.5010 - val_acc: 0.8847\n",
            "Epoch 81/100\n",
            "13300/13300 [==============================] - 52s 4ms/step - loss: 0.2109 - acc: 0.9393 - val_loss: 0.4686 - val_acc: 0.8858\n",
            "Epoch 82/100\n",
            "13300/13300 [==============================] - 52s 4ms/step - loss: 0.1243 - acc: 0.9635 - val_loss: 0.5007 - val_acc: 0.9016\n",
            "Epoch 83/100\n",
            "13300/13300 [==============================] - 52s 4ms/step - loss: 0.0800 - acc: 0.9774 - val_loss: 0.4265 - val_acc: 0.9063\n",
            "Epoch 84/100\n",
            "13300/13300 [==============================] - 52s 4ms/step - loss: 0.0548 - acc: 0.9835 - val_loss: 0.4171 - val_acc: 0.9168\n",
            "Epoch 85/100\n",
            "13300/13300 [==============================] - 52s 4ms/step - loss: 0.0637 - acc: 0.9816 - val_loss: 0.4403 - val_acc: 0.9012\n",
            "Epoch 86/100\n",
            "13300/13300 [==============================] - 52s 4ms/step - loss: 0.1336 - acc: 0.9632 - val_loss: 0.4701 - val_acc: 0.8872\n",
            "Epoch 87/100\n",
            "13300/13300 [==============================] - 52s 4ms/step - loss: 0.1187 - acc: 0.9678 - val_loss: 0.6605 - val_acc: 0.8665\n",
            "Epoch 88/100\n",
            "13300/13300 [==============================] - 52s 4ms/step - loss: 0.1671 - acc: 0.9507 - val_loss: 0.5593 - val_acc: 0.8788\n",
            "Epoch 89/100\n",
            "13300/13300 [==============================] - 52s 4ms/step - loss: 0.3206 - acc: 0.9150 - val_loss: 0.6470 - val_acc: 0.8644\n",
            "Epoch 90/100\n",
            "13300/13300 [==============================] - 52s 4ms/step - loss: 0.2989 - acc: 0.9144 - val_loss: 0.4983 - val_acc: 0.8702\n",
            "Epoch 91/100\n",
            "13300/13300 [==============================] - 52s 4ms/step - loss: 0.1680 - acc: 0.9502 - val_loss: 0.5661 - val_acc: 0.8791\n",
            "Epoch 92/100\n",
            "13300/13300 [==============================] - 52s 4ms/step - loss: 0.2301 - acc: 0.9353 - val_loss: 0.5455 - val_acc: 0.8854\n",
            "Epoch 93/100\n",
            "13300/13300 [==============================] - 52s 4ms/step - loss: 0.1589 - acc: 0.9574 - val_loss: 0.4822 - val_acc: 0.8947\n",
            "Epoch 94/100\n",
            "13300/13300 [==============================] - 52s 4ms/step - loss: 0.1122 - acc: 0.9656 - val_loss: 0.5305 - val_acc: 0.8872\n",
            "Epoch 95/100\n",
            "13300/13300 [==============================] - 52s 4ms/step - loss: 0.0852 - acc: 0.9791 - val_loss: 0.4733 - val_acc: 0.9133\n",
            "Epoch 96/100\n",
            "13300/13300 [==============================] - 52s 4ms/step - loss: 0.1218 - acc: 0.9689 - val_loss: 0.4641 - val_acc: 0.8974\n",
            "Epoch 97/100\n",
            "13300/13300 [==============================] - 52s 4ms/step - loss: 0.1622 - acc: 0.9566 - val_loss: 0.5740 - val_acc: 0.8644\n",
            "Epoch 98/100\n",
            "13300/13300 [==============================] - 52s 4ms/step - loss: 0.1157 - acc: 0.9689 - val_loss: 0.5099 - val_acc: 0.9023\n",
            "Epoch 99/100\n",
            "13300/13300 [==============================] - 52s 4ms/step - loss: 0.0782 - acc: 0.9797 - val_loss: 0.5645 - val_acc: 0.8984\n",
            "Epoch 100/100\n",
            "13300/13300 [==============================] - 52s 4ms/step - loss: 0.0951 - acc: 0.9738 - val_loss: 0.5697 - val_acc: 0.8840\n"
          ],
          "name": "stdout"
        }
      ]
    },
    {
      "cell_type": "code",
      "metadata": {
        "id": "kU2vu0ItBVSk",
        "colab_type": "code",
        "outputId": "6e2d407e-fc27-480e-c4b8-52cc9c16eba3",
        "colab": {
          "base_uri": "https://localhost:8080/",
          "height": 34
        }
      },
      "source": [
        "score = model.evaluate(X_test, y_test, verbose=0)\n",
        "print(\"val_loss = {:.3f} and val_acc = {:.3f}\".format(score[0], score[1]))"
      ],
      "execution_count": 18,
      "outputs": [
        {
          "output_type": "stream",
          "text": [
            "val_loss = 0.570 and val_acc = 0.884\n"
          ],
          "name": "stdout"
        }
      ]
    },
    {
      "cell_type": "code",
      "metadata": {
        "id": "eGj3bcZaH6ya",
        "colab_type": "code",
        "outputId": "4a3e77ac-acd5-459a-cf45-81bf0977347e",
        "colab": {
          "base_uri": "https://localhost:8080/",
          "height": 533
        }
      },
      "source": [
        "plt.figure(figsize=(15,7))\n",
        "\n",
        "plt.subplot(1,2,1)\n",
        "plt.plot(hist.history['acc'], label='train')\n",
        "plt.plot(hist.history['val_acc'], label='validation')\n",
        "plt.title('Accuracy')\n",
        "plt.xlabel('Epochs')\n",
        "plt.ylabel('Accuracy')\n",
        "plt.legend()\n",
        "\n",
        "plt.subplot(1,2,2)\n",
        "plt.plot(hist.history['loss'], label='train')\n",
        "plt.plot(hist.history['val_loss'], label='validation')\n",
        "plt.title('Loss')\n",
        "plt.xlabel('Epochs')\n",
        "plt.ylabel('Loss')\n",
        "plt.legend()\n",
        "\n",
        "plt.tight_layout()\n",
        "plt.show()"
      ],
      "execution_count": 19,
      "outputs": [
        {
          "output_type": "display_data",
          "data": {
            "image/png": "[encoded data removed]",
            "text/plain": [
              "<Figure size 1080x504 with 2 Axes>"
            ]
          },
          "metadata": {
            "tags": []
          }
        }
      ]
    },
    {
      "cell_type": "code",
      "metadata": {
        "id": "Va8LtAIiH9vs",
        "colab_type": "code",
        "colab": {}
      },
      "source": [
        "\n",
        "#http://scikit-learn.org/stable/auto_examples/model_selection/plot_confusion_matrix.html\n",
        "def plot_confusion_matrix(cm, classes,\n",
        "                          normalize=False,\n",
        "                          title='Confusion matrix',\n",
        "                          cmap=plt.cm.Blues):\n",
        "    \"\"\"\n",
        "    This function prints and plots the confusion matrix.\n",
        "    Normalization can be applied by setting `normalize=True`.\n",
        "    \"\"\"\n",
        "    if normalize:\n",
        "        cm = cm.astype('float') / cm.sum(axis=1)[:, np.newaxis]\n",
        "        print(\"Normalized confusion matrix\")\n",
        "    else:\n",
        "        print('Confusion matrix, without normalization')\n",
        "\n",
        "    plt.imshow(cm, interpolation='nearest', cmap=cmap)\n",
        "    plt.title(title)\n",
        "    plt.colorbar()\n",
        "    tick_marks = np.arange(len(classes))\n",
        "    plt.xticks(tick_marks, classes, rotation=45)\n",
        "    plt.yticks(tick_marks, classes)\n",
        "\n",
        "    fmt = '.2f' if normalize else 'd'\n",
        "    thresh = cm.max() / 2.\n",
        "    for i, j in itertools.product(range(cm.shape[0]), range(cm.shape[1])):\n",
        "        plt.text(j, i, format(cm[i, j], fmt),\n",
        "                 horizontalalignment=\"center\",\n",
        "                 color=\"white\" if cm[i, j] > thresh else \"black\")\n",
        "\n",
        "    plt.tight_layout()\n",
        "    plt.ylabel('True label')\n",
        "    plt.xlabel('Predicted label')"
      ],
      "execution_count": 0,
      "outputs": []
    },
    {
      "cell_type": "code",
      "metadata": {
        "id": "bw2goFrQIArS",
        "colab_type": "code",
        "colab": {}
      },
      "source": [
        "preds = np.argmax(model.predict(X_test), axis = 1)\n",
        "y_orig = np.argmax(y_test, axis = 1)\n",
        "cm = confusion_matrix(preds, y_orig)"
      ],
      "execution_count": 0,
      "outputs": []
    },
    {
      "cell_type": "code",
      "metadata": {
        "id": "fWRxlkHNIENW",
        "colab_type": "code",
        "outputId": "f59f8517-e3c2-4576-9a3b-4feecc6c0350",
        "colab": {
          "base_uri": "https://localhost:8080/",
          "height": 602
        }
      },
      "source": [
        "keys = OrderedDict(sorted(genres.items(), key=lambda t: t[1])).keys()\n",
        "\n",
        "plt.figure(figsize=(8,8))\n",
        "plot_confusion_matrix(cm, keys, normalize=True)"
      ],
      "execution_count": 22,
      "outputs": [
        {
          "output_type": "stream",
          "text": [
            "Normalized confusion matrix\n"
          ],
          "name": "stdout"
        },
        {
          "output_type": "display_data",
          "data": {
            "image/png": "[encoded data removed]",
            "text/plain": [
              "<Figure size 576x576 with 2 Axes>"
            ]
          },
          "metadata": {
            "tags": []
          }
        }
      ]
    },
    {
      "cell_type": "code",
      "metadata": {
        "id": "dDde-sFIIGvZ",
        "colab_type": "code",
        "colab": {}
      },
      "source": [
        "# Save the model\n",
        "model.save('/content/drive/My Drive/nbs_vgg16.h5')"
      ],
      "execution_count": 0,
      "outputs": []
    },
    {
      "cell_type": "code",
      "metadata": {
        "id": "tVXgoJNHLa3I",
        "colab_type": "code",
        "colab": {}
      },
      "source": [
        ""
      ],
      "execution_count": 0,
      "outputs": []
    }
  ]
}